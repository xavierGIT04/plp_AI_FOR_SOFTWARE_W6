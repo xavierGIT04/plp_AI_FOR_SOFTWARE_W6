{
 "cells": [
  {
   "cell_type": "code",
   "id": "initial_id",
   "metadata": {
    "collapsed": true,
    "ExecuteTime": {
     "end_time": "2025-10-15T20:18:19.241Z",
     "start_time": "2025-10-15T20:18:15.171941Z"
    }
   },
   "source": [
    "from qiskit import QuantumCircuit, Aer, execute\n",
    "from qiskit.opflow import Z, I\n",
    "from qiskit.algorithms import VQE\n",
    "from qiskit.algorithms.minimum_eigensolvers import VQE as QiskitVQE\n",
    "from qiskit.primitives import Estimator\n",
    "from qiskit.circuit.library import TwoLocal\n",
    "import numpy as np\n",
    "\n",
    "# --- 1. Define the Problem (The Hamiltonian) ---\n",
    "# In Quantum AI for chemistry, the problem is represented by a Hamiltonian (H),\n",
    "# which describes the energy of a molecule. VQE aims to find the minimum\n",
    "# eigenvalue (ground state energy) of H.\n",
    "# Simplified H for a two-qubit system: H = 0.5 * I + 0.5 * Z\n",
    "hamiltonian = 0.5 * I + 0.5 * Z\n",
    "\n",
    "# --- 2. Define the Quantum Circuit (The Ansatz) ---\n",
    "# The Ansatz is the parameterized quantum circuit that VQE will optimize.\n",
    "# We use TwoLocal (a built-in Qiskit circuit) for simplicity.\n",
    "num_qubits = 1\n",
    "ansatz = TwoLocal(num_qubits, ['ry', 'rz'], 'cx', reps=1)\n",
    "\n",
    "# --- 3. Run the VQE Algorithm ---\n",
    "# VQE is a hybrid classical-quantum algorithm.\n",
    "# The quantum part (Estimator) calculates energy.\n",
    "# The classical part (Optimizer) adjusts the circuit parameters.\n",
    "estimator = Estimator()\n",
    "\n",
    "# Initialize the VQE solver\n",
    "vqe = QiskitVQE(estimator, ansatz)\n",
    "\n",
    "# Simulate optimization (finding the lowest energy/eigenvalue)\n",
    "result = vqe.compute_minimum_eigenvalue(hamiltonian)\n",
    "\n",
    "# --- 4. Output ---\n",
    "print(\"--- Quantum VQE Simulation Results ---\")\n",
    "print(f\"Number of Qubits Used: {num_qubits}\")\n",
    "print(f\"Optimized Ground State Energy (Simulated): {result.eigenvalue.real:.4f} a.u.\")\n",
    "print(\"VQE successfully minimized the system's energy.\")\n",
    "\n",
    "# Optional: Draw the circuit (uncomment to run in a Qiskit environment)\n",
    "# circuit = ansatz.bind_parameters(result.optimal_parameters)\n",
    "# print(\"\\nOptimal Circuit:\")\n",
    "# print(circuit.draw('text'))"
   ],
   "outputs": [
    {
     "ename": "ImportError",
     "evalue": "cannot import name 'Aer' from 'qiskit' (C:\\Users\\USER\\AppData\\Local\\Programs\\Python\\Python312\\Lib\\site-packages\\qiskit\\__init__.py)",
     "output_type": "error",
     "traceback": [
      "\u001B[31m---------------------------------------------------------------------------\u001B[39m",
      "\u001B[31mImportError\u001B[39m                               Traceback (most recent call last)",
      "\u001B[36mCell\u001B[39m\u001B[36m \u001B[39m\u001B[32mIn[1]\u001B[39m\u001B[32m, line 1\u001B[39m\n\u001B[32m----> \u001B[39m\u001B[32m1\u001B[39m \u001B[38;5;28;01mfrom\u001B[39;00m \u001B[34;01mqiskit\u001B[39;00m \u001B[38;5;28;01mimport\u001B[39;00m QuantumCircuit, Aer, execute\n\u001B[32m      2\u001B[39m \u001B[38;5;28;01mfrom\u001B[39;00m \u001B[34;01mqiskit\u001B[39;00m\u001B[34;01m.\u001B[39;00m\u001B[34;01mopflow\u001B[39;00m \u001B[38;5;28;01mimport\u001B[39;00m Z, I\n\u001B[32m      3\u001B[39m \u001B[38;5;28;01mfrom\u001B[39;00m \u001B[34;01mqiskit\u001B[39;00m\u001B[34;01m.\u001B[39;00m\u001B[34;01malgorithms\u001B[39;00m \u001B[38;5;28;01mimport\u001B[39;00m VQE\n",
      "\u001B[31mImportError\u001B[39m: cannot import name 'Aer' from 'qiskit' (C:\\Users\\USER\\AppData\\Local\\Programs\\Python\\Python312\\Lib\\site-packages\\qiskit\\__init__.py)"
     ]
    }
   ],
   "execution_count": 1
  }
 ],
 "metadata": {
  "kernelspec": {
   "display_name": "Python 3",
   "language": "python",
   "name": "python3"
  },
  "language_info": {
   "codemirror_mode": {
    "name": "ipython",
    "version": 2
   },
   "file_extension": ".py",
   "mimetype": "text/x-python",
   "name": "python",
   "nbconvert_exporter": "python",
   "pygments_lexer": "ipython2",
   "version": "2.7.6"
  }
 },
 "nbformat": 4,
 "nbformat_minor": 5
}
